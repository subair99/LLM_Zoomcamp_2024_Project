{
 "cells": [
  {
   "cell_type": "code",
   "execution_count": 1,
   "id": "d4388eff-6599-44a2-b928-a51d0497b534",
   "metadata": {},
   "outputs": [],
   "source": [
    "# Import the required modules.\n",
    "import pandas as pd"
   ]
  },
  {
   "cell_type": "code",
   "execution_count": 2,
   "id": "4cad7800-4cf8-45aa-bf08-d71ecc2ea25e",
   "metadata": {},
   "outputs": [],
   "source": [
    "# Read the data.\n",
    "df = pd.read_csv('../data/medquad.csv')"
   ]
  },
  {
   "cell_type": "code",
   "execution_count": 3,
   "id": "ebb52ee2-61dc-4bbd-9abf-1eb4a8996d69",
   "metadata": {},
   "outputs": [
    {
     "data": {
      "text/html": [
       "<div>\n",
       "<style scoped>\n",
       "    .dataframe tbody tr th:only-of-type {\n",
       "        vertical-align: middle;\n",
       "    }\n",
       "\n",
       "    .dataframe tbody tr th {\n",
       "        vertical-align: top;\n",
       "    }\n",
       "\n",
       "    .dataframe thead th {\n",
       "        text-align: right;\n",
       "    }\n",
       "</style>\n",
       "<table border=\"1\" class=\"dataframe\">\n",
       "  <thead>\n",
       "    <tr style=\"text-align: right;\">\n",
       "      <th></th>\n",
       "      <th>question</th>\n",
       "      <th>answer</th>\n",
       "      <th>source</th>\n",
       "      <th>focus_area</th>\n",
       "    </tr>\n",
       "  </thead>\n",
       "  <tbody>\n",
       "    <tr>\n",
       "      <th>0</th>\n",
       "      <td>What is (are) Glaucoma ?</td>\n",
       "      <td>Glaucoma is a group of diseases that can damag...</td>\n",
       "      <td>NIHSeniorHealth</td>\n",
       "      <td>Glaucoma</td>\n",
       "    </tr>\n",
       "    <tr>\n",
       "      <th>1</th>\n",
       "      <td>What causes Glaucoma ?</td>\n",
       "      <td>Nearly 2.7 million people have glaucoma, a lea...</td>\n",
       "      <td>NIHSeniorHealth</td>\n",
       "      <td>Glaucoma</td>\n",
       "    </tr>\n",
       "    <tr>\n",
       "      <th>2</th>\n",
       "      <td>What are the symptoms of Glaucoma ?</td>\n",
       "      <td>Symptoms of Glaucoma  Glaucoma can develop in ...</td>\n",
       "      <td>NIHSeniorHealth</td>\n",
       "      <td>Glaucoma</td>\n",
       "    </tr>\n",
       "    <tr>\n",
       "      <th>3</th>\n",
       "      <td>What are the treatments for Glaucoma ?</td>\n",
       "      <td>Although open-angle glaucoma cannot be cured, ...</td>\n",
       "      <td>NIHSeniorHealth</td>\n",
       "      <td>Glaucoma</td>\n",
       "    </tr>\n",
       "    <tr>\n",
       "      <th>4</th>\n",
       "      <td>What is (are) Glaucoma ?</td>\n",
       "      <td>Glaucoma is a group of diseases that can damag...</td>\n",
       "      <td>NIHSeniorHealth</td>\n",
       "      <td>Glaucoma</td>\n",
       "    </tr>\n",
       "  </tbody>\n",
       "</table>\n",
       "</div>"
      ],
      "text/plain": [
       "                                 question  \\\n",
       "0                What is (are) Glaucoma ?   \n",
       "1                  What causes Glaucoma ?   \n",
       "2     What are the symptoms of Glaucoma ?   \n",
       "3  What are the treatments for Glaucoma ?   \n",
       "4                What is (are) Glaucoma ?   \n",
       "\n",
       "                                              answer           source  \\\n",
       "0  Glaucoma is a group of diseases that can damag...  NIHSeniorHealth   \n",
       "1  Nearly 2.7 million people have glaucoma, a lea...  NIHSeniorHealth   \n",
       "2  Symptoms of Glaucoma  Glaucoma can develop in ...  NIHSeniorHealth   \n",
       "3  Although open-angle glaucoma cannot be cured, ...  NIHSeniorHealth   \n",
       "4  Glaucoma is a group of diseases that can damag...  NIHSeniorHealth   \n",
       "\n",
       "  focus_area  \n",
       "0   Glaucoma  \n",
       "1   Glaucoma  \n",
       "2   Glaucoma  \n",
       "3   Glaucoma  \n",
       "4   Glaucoma  "
      ]
     },
     "execution_count": 3,
     "metadata": {},
     "output_type": "execute_result"
    }
   ],
   "source": [
    "# Show the head of df.\n",
    "df.head()"
   ]
  },
  {
   "cell_type": "code",
   "execution_count": 4,
   "id": "1011b4d1-7733-492a-a0e9-4acae6f152fb",
   "metadata": {},
   "outputs": [
    {
     "data": {
      "text/plain": [
       "(16412, 4)"
      ]
     },
     "execution_count": 4,
     "metadata": {},
     "output_type": "execute_result"
    }
   ],
   "source": [
    "# Show the shape of the data.\n",
    "df.shape"
   ]
  },
  {
   "cell_type": "code",
   "execution_count": 5,
   "id": "4ab9b775-0674-48b6-a913-2d227332e455",
   "metadata": {},
   "outputs": [
    {
     "data": {
      "text/plain": [
       "source\n",
       "GHR                  5430\n",
       "GARD                 5394\n",
       "NIDDK                1192\n",
       "NINDS                1088\n",
       "MPlusHealthTopics     981\n",
       "NIHSeniorHealth       769\n",
       "CancerGov             729\n",
       "NHLBI                 559\n",
       "CDC                   270\n",
       "Name: count, dtype: int64"
      ]
     },
     "execution_count": 5,
     "metadata": {},
     "output_type": "execute_result"
    }
   ],
   "source": [
    "# Show the counts of the data.\n",
    "df.source.value_counts()"
   ]
  },
  {
   "cell_type": "code",
   "execution_count": 6,
   "id": "75fb183e-8d27-4c52-8f5e-6c6dcb1a85bc",
   "metadata": {},
   "outputs": [],
   "source": [
    "# Remove unwanted spaces in the columns.\n",
    "df.question = df.question.str.replace(' ?', '?')"
   ]
  },
  {
   "cell_type": "code",
   "execution_count": 7,
   "id": "c95ac4cb-d797-4ea2-a4eb-2368b7d4291d",
   "metadata": {},
   "outputs": [],
   "source": [
    "# Replace double question marks.\n",
    "df.question = df.question.str.replace('??', '?')"
   ]
  },
  {
   "cell_type": "code",
   "execution_count": 8,
   "id": "db542e93-f271-40d8-8782-3dc21adbb63e",
   "metadata": {},
   "outputs": [
    {
     "data": {
      "text/plain": [
       "(16412, 4)"
      ]
     },
     "execution_count": 8,
     "metadata": {},
     "output_type": "execute_result"
    }
   ],
   "source": [
    "# Show the shape df.\n",
    "df.shape"
   ]
  },
  {
   "cell_type": "code",
   "execution_count": 9,
   "id": "ae19882b-a649-4218-95a8-877d30453287",
   "metadata": {},
   "outputs": [
    {
     "data": {
      "text/plain": [
       "question       0\n",
       "answer         5\n",
       "source         0\n",
       "focus_area    14\n",
       "dtype: int64"
      ]
     },
     "execution_count": 9,
     "metadata": {},
     "output_type": "execute_result"
    }
   ],
   "source": [
    "# Check for null values.\n",
    "df.isna().sum()"
   ]
  },
  {
   "cell_type": "code",
   "execution_count": 10,
   "id": "9bd8b766-ab63-4f56-a998-78471aa3d7cd",
   "metadata": {},
   "outputs": [],
   "source": [
    "# Drop null values.\n",
    "df.dropna(inplace=True)"
   ]
  },
  {
   "cell_type": "code",
   "execution_count": 11,
   "id": "b320ae3b-d9bf-42f4-b29b-f8b95e90f608",
   "metadata": {},
   "outputs": [
    {
     "data": {
      "text/plain": [
       "(16393, 4)"
      ]
     },
     "execution_count": 11,
     "metadata": {},
     "output_type": "execute_result"
    }
   ],
   "source": [
    "# Show the shape df.\n",
    "df.shape"
   ]
  },
  {
   "cell_type": "code",
   "execution_count": 12,
   "id": "f764e4af",
   "metadata": {},
   "outputs": [],
   "source": [
    "# Find the list of the sources in df.\n",
    "source_list = list(set(df.source))"
   ]
  },
  {
   "cell_type": "code",
   "execution_count": 13,
   "id": "93a23d17",
   "metadata": {},
   "outputs": [],
   "source": [
    "# Create an empty list to store the index.\n",
    "empty_list = []"
   ]
  },
  {
   "cell_type": "code",
   "execution_count": 14,
   "id": "ed6218da",
   "metadata": {},
   "outputs": [],
   "source": [
    "# Create the dataframe of the selected indices.\n",
    "for item in source_list:\n",
    "    index_list = df[df.source==item].sample(n=22, random_state=2).index.to_list()\n",
    "\n",
    "    for num in index_list:\n",
    "        empty_list.append(num)\n",
    "\n",
    "empty_list.sort()\n",
    "df_index = df.loc[empty_list]"
   ]
  },
  {
   "cell_type": "code",
   "execution_count": 15,
   "id": "06d62c56",
   "metadata": {},
   "outputs": [
    {
     "data": {
      "text/html": [
       "<div>\n",
       "<style scoped>\n",
       "    .dataframe tbody tr th:only-of-type {\n",
       "        vertical-align: middle;\n",
       "    }\n",
       "\n",
       "    .dataframe tbody tr th {\n",
       "        vertical-align: top;\n",
       "    }\n",
       "\n",
       "    .dataframe thead th {\n",
       "        text-align: right;\n",
       "    }\n",
       "</style>\n",
       "<table border=\"1\" class=\"dataframe\">\n",
       "  <thead>\n",
       "    <tr style=\"text-align: right;\">\n",
       "      <th></th>\n",
       "      <th>question</th>\n",
       "      <th>answer</th>\n",
       "      <th>source</th>\n",
       "      <th>focus_area</th>\n",
       "    </tr>\n",
       "  </thead>\n",
       "  <tbody>\n",
       "    <tr>\n",
       "      <th>137</th>\n",
       "      <td>What is (are) Knee Replacement?</td>\n",
       "      <td>There are many different types and designs of ...</td>\n",
       "      <td>NIHSeniorHealth</td>\n",
       "      <td>Knee Replacement</td>\n",
       "    </tr>\n",
       "    <tr>\n",
       "      <th>182</th>\n",
       "      <td>What are the symptoms of Prostate Cancer?</td>\n",
       "      <td>- a need to urinate frequently, especially at ...</td>\n",
       "      <td>NIHSeniorHealth</td>\n",
       "      <td>Prostate Cancer</td>\n",
       "    </tr>\n",
       "    <tr>\n",
       "      <th>213</th>\n",
       "      <td>How to diagnose Osteoporosis?</td>\n",
       "      <td>Who Should Be Tested? The United States Preven...</td>\n",
       "      <td>NIHSeniorHealth</td>\n",
       "      <td>Osteoporosis</td>\n",
       "    </tr>\n",
       "    <tr>\n",
       "      <th>231</th>\n",
       "      <td>How to prevent Kidney Disease?</td>\n",
       "      <td>Risk Factors Diabetes and high blood pressure ...</td>\n",
       "      <td>NIHSeniorHealth</td>\n",
       "      <td>Kidney Disease</td>\n",
       "    </tr>\n",
       "    <tr>\n",
       "      <th>232</th>\n",
       "      <td>What are the symptoms of Kidney Disease?</td>\n",
       "      <td>Kidney Disease Kidney disease is often called ...</td>\n",
       "      <td>NIHSeniorHealth</td>\n",
       "      <td>Kidney Disease</td>\n",
       "    </tr>\n",
       "  </tbody>\n",
       "</table>\n",
       "</div>"
      ],
      "text/plain": [
       "                                      question  \\\n",
       "137            What is (are) Knee Replacement?   \n",
       "182  What are the symptoms of Prostate Cancer?   \n",
       "213              How to diagnose Osteoporosis?   \n",
       "231             How to prevent Kidney Disease?   \n",
       "232   What are the symptoms of Kidney Disease?   \n",
       "\n",
       "                                                answer           source  \\\n",
       "137  There are many different types and designs of ...  NIHSeniorHealth   \n",
       "182  - a need to urinate frequently, especially at ...  NIHSeniorHealth   \n",
       "213  Who Should Be Tested? The United States Preven...  NIHSeniorHealth   \n",
       "231  Risk Factors Diabetes and high blood pressure ...  NIHSeniorHealth   \n",
       "232  Kidney Disease Kidney disease is often called ...  NIHSeniorHealth   \n",
       "\n",
       "           focus_area  \n",
       "137  Knee Replacement  \n",
       "182   Prostate Cancer  \n",
       "213      Osteoporosis  \n",
       "231    Kidney Disease  \n",
       "232    Kidney Disease  "
      ]
     },
     "execution_count": 15,
     "metadata": {},
     "output_type": "execute_result"
    }
   ],
   "source": [
    "# Show the head of df_index.\n",
    "df_index.head()"
   ]
  },
  {
   "cell_type": "code",
   "execution_count": 16,
   "id": "40c8ad0c",
   "metadata": {},
   "outputs": [
    {
     "data": {
      "text/plain": [
       "(198, 4)"
      ]
     },
     "execution_count": 16,
     "metadata": {},
     "output_type": "execute_result"
    }
   ],
   "source": [
    "# Check the length of df_index.\n",
    "df_index.shape"
   ]
  },
  {
   "cell_type": "code",
   "execution_count": 17,
   "id": "e1552340",
   "metadata": {},
   "outputs": [],
   "source": [
    "# Re-index df_index.\n",
    "df_index = df_index.reset_index(drop=True)"
   ]
  },
  {
   "cell_type": "code",
   "execution_count": 18,
   "id": "061b8adf",
   "metadata": {},
   "outputs": [],
   "source": [
    "# Create an id column with the index.\n",
    "id_column = list(range(len(df_index)))\n",
    "df_index.loc[:, 'id'] = id_column"
   ]
  },
  {
   "cell_type": "code",
   "execution_count": 19,
   "id": "71e4af9c",
   "metadata": {},
   "outputs": [
    {
     "data": {
      "text/html": [
       "<div>\n",
       "<style scoped>\n",
       "    .dataframe tbody tr th:only-of-type {\n",
       "        vertical-align: middle;\n",
       "    }\n",
       "\n",
       "    .dataframe tbody tr th {\n",
       "        vertical-align: top;\n",
       "    }\n",
       "\n",
       "    .dataframe thead th {\n",
       "        text-align: right;\n",
       "    }\n",
       "</style>\n",
       "<table border=\"1\" class=\"dataframe\">\n",
       "  <thead>\n",
       "    <tr style=\"text-align: right;\">\n",
       "      <th></th>\n",
       "      <th>question</th>\n",
       "      <th>answer</th>\n",
       "      <th>source</th>\n",
       "      <th>focus_area</th>\n",
       "      <th>id</th>\n",
       "    </tr>\n",
       "  </thead>\n",
       "  <tbody>\n",
       "    <tr>\n",
       "      <th>0</th>\n",
       "      <td>What is (are) Knee Replacement?</td>\n",
       "      <td>There are many different types and designs of ...</td>\n",
       "      <td>NIHSeniorHealth</td>\n",
       "      <td>Knee Replacement</td>\n",
       "      <td>0</td>\n",
       "    </tr>\n",
       "    <tr>\n",
       "      <th>1</th>\n",
       "      <td>What are the symptoms of Prostate Cancer?</td>\n",
       "      <td>- a need to urinate frequently, especially at ...</td>\n",
       "      <td>NIHSeniorHealth</td>\n",
       "      <td>Prostate Cancer</td>\n",
       "      <td>1</td>\n",
       "    </tr>\n",
       "    <tr>\n",
       "      <th>2</th>\n",
       "      <td>How to diagnose Osteoporosis?</td>\n",
       "      <td>Who Should Be Tested? The United States Preven...</td>\n",
       "      <td>NIHSeniorHealth</td>\n",
       "      <td>Osteoporosis</td>\n",
       "      <td>2</td>\n",
       "    </tr>\n",
       "    <tr>\n",
       "      <th>3</th>\n",
       "      <td>How to prevent Kidney Disease?</td>\n",
       "      <td>Risk Factors Diabetes and high blood pressure ...</td>\n",
       "      <td>NIHSeniorHealth</td>\n",
       "      <td>Kidney Disease</td>\n",
       "      <td>3</td>\n",
       "    </tr>\n",
       "    <tr>\n",
       "      <th>4</th>\n",
       "      <td>What are the symptoms of Kidney Disease?</td>\n",
       "      <td>Kidney Disease Kidney disease is often called ...</td>\n",
       "      <td>NIHSeniorHealth</td>\n",
       "      <td>Kidney Disease</td>\n",
       "      <td>4</td>\n",
       "    </tr>\n",
       "  </tbody>\n",
       "</table>\n",
       "</div>"
      ],
      "text/plain": [
       "                                    question  \\\n",
       "0            What is (are) Knee Replacement?   \n",
       "1  What are the symptoms of Prostate Cancer?   \n",
       "2              How to diagnose Osteoporosis?   \n",
       "3             How to prevent Kidney Disease?   \n",
       "4   What are the symptoms of Kidney Disease?   \n",
       "\n",
       "                                              answer           source  \\\n",
       "0  There are many different types and designs of ...  NIHSeniorHealth   \n",
       "1  - a need to urinate frequently, especially at ...  NIHSeniorHealth   \n",
       "2  Who Should Be Tested? The United States Preven...  NIHSeniorHealth   \n",
       "3  Risk Factors Diabetes and high blood pressure ...  NIHSeniorHealth   \n",
       "4  Kidney Disease Kidney disease is often called ...  NIHSeniorHealth   \n",
       "\n",
       "         focus_area  id  \n",
       "0  Knee Replacement   0  \n",
       "1   Prostate Cancer   1  \n",
       "2      Osteoporosis   2  \n",
       "3    Kidney Disease   3  \n",
       "4    Kidney Disease   4  "
      ]
     },
     "execution_count": 19,
     "metadata": {},
     "output_type": "execute_result"
    }
   ],
   "source": [
    "# Show the head of df_index.\n",
    "df_index.head()"
   ]
  },
  {
   "cell_type": "code",
   "execution_count": 20,
   "id": "e5ced65d",
   "metadata": {},
   "outputs": [],
   "source": [
    "# Create df_data dataframe.\n",
    "df_data = df_index[['id', 'answer', 'source', 'focus_area']]"
   ]
  },
  {
   "cell_type": "code",
   "execution_count": 21,
   "id": "7a0100b5",
   "metadata": {},
   "outputs": [],
   "source": [
    "# Save df_data as data.csv.\n",
    "df_data.to_csv('../data/data.csv', index=False)"
   ]
  }
 ],
 "metadata": {
  "kernelspec": {
   "display_name": "Python 3 (ipykernel)",
   "language": "python",
   "name": "python3"
  },
  "language_info": {
   "codemirror_mode": {
    "name": "ipython",
    "version": 3
   },
   "file_extension": ".py",
   "mimetype": "text/x-python",
   "name": "python",
   "nbconvert_exporter": "python",
   "pygments_lexer": "ipython3",
   "version": "3.12.1"
  }
 },
 "nbformat": 4,
 "nbformat_minor": 5
}
